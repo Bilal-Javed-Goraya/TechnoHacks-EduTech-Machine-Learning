{
 "cells": [
  {
   "cell_type": "markdown",
   "metadata": {},
   "source": [
    "# PREPARE DATA\n",
    "\n",
    "## Getting Started\n",
    "\n",
    "* <p style=\"text-align:justify\">To begin working with this project we need to download the dataset form the bellow link:</p>\n",
    "\n",
    "> IMDb Movie Reviews Dataset (84.1 MB): <a href=\"http://ai.stanford.edu/~amaas/data/sentiment/aclImdb_v1.tar.gz\" target=\"_blank\">Download</a>\n",
    "\n",
    "* <p style=\"text-align:justify\">To extract the downloaded gzip-compressed tarball archive, we need to 7-Zip (<a href=\"http://www.7-zip.org\" target=\"_blank\">http://www.7-zip.org</a>) software.</p>\n",
    "\n",
    "* <p style=\"text-align:justify\">The extracted gzip file need to be further extracted with a zip file extracter into the movie_review_classifier directory.<p>\n",
    "\n",
    "* <p style=\"text-align:justify\">After successfully extracted the dataset, we will now assemble the individual text documents from the deompressed downloaded archive into a single CSV file using DataFrame object.</p>"
   ]
  },
  {
   "cell_type": "code",
   "execution_count": 8,
   "metadata": {},
   "outputs": [
    {
     "name": "stderr",
     "output_type": "stream",
     "text": [
      "[ 44 %] Time elapsed: 00:10:59 | ETA: 00:13:39\n",
      "KeyboardInterrupt\n",
      "\n"
     ]
    }
   ],
   "source": [
    "# Import libraries necessary for this project\n",
    "import pandas as pd\n",
    "import matplotlib.pyplot as plt\n",
    "import pyprind  # Allows to visualize the progress and estimated time until completion\n",
    "import os\n",
    "\n",
    "pper = pyprind.ProgPercent(50000)\n",
    "labels = {'pos': 1, 'neg': 0}\n",
    "\n",
    "# Load data frame\n",
    "dataframe = pd.DataFrame()\n",
    "\n",
    "# Nested for loops to iterate text files over subdirectories\n",
    "for s in ('test', 'train'):\n",
    "    for n in ('pos', 'neg'):\n",
    "        path = './Dataset/aclImdb/%s/%s' % (s, n)\n",
    "        for file in os.listdir(path):\n",
    "            with open(os.path.join(path, file), 'r', encoding='utf-8') as infile:\n",
    "                text = infile.read()\n",
    "            dataframe = pd.concat([dataframe, pd.DataFrame([[text, labels[n]]], columns=['review', 'sentiment'])],\n",
    "                                  ignore_index=True)\n",
    "            pper.update()\n"
   ]
  },
  {
   "cell_type": "markdown",
   "metadata": {},
   "source": [
    "## Shuffle the data\n",
    "\n",
    "<p style=\"text-align:justify\"> The extrated data is sorted in order, we can not trian the ordered datset. \n",
    "Here, we will shuffle the above sorted dataset using permutation function from the np.random submodule.</p>"
   ]
  },
  {
   "cell_type": "code",
   "execution_count": null,
   "metadata": {},
   "outputs": [],
   "source": [
    "import numpy as np\n",
    "\n",
    "np.random.seed(0)\n",
    "\n",
    "# Shuffle data\n",
    "dataframe = dataframe.reindex(np.random.permutation(dataframe.index))\n",
    "\n",
    "# Convert into a single CSV file.\n",
    "dataframe.to_csv('./movie_reviews_data.csv', index=False)\n",
    "\n",
    "print \"movie_reviews_data.csv file is created\""
   ]
  },
  {
   "cell_type": "code",
   "execution_count": null,
   "metadata": {},
   "outputs": [],
   "source": []
  }
 ],
 "metadata": {
  "kernelspec": {
   "display_name": "Python 3 (ipykernel)",
   "language": "python",
   "name": "python3"
  },
  "language_info": {
   "codemirror_mode": {
    "name": "ipython",
    "version": 3
   },
   "file_extension": ".py",
   "mimetype": "text/x-python",
   "name": "python",
   "nbconvert_exporter": "python",
   "pygments_lexer": "ipython3",
   "version": "3.10.9"
  }
 },
 "nbformat": 4,
 "nbformat_minor": 1
}
